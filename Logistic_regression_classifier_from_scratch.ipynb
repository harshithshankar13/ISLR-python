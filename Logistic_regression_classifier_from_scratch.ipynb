{
  "nbformat": 4,
  "nbformat_minor": 0,
  "metadata": {
    "kernelspec": {
      "name": "python3",
      "display_name": "Python 3"
    },
    "language_info": {
      "codemirror_mode": {
        "name": "ipython",
        "version": 3
      },
      "file_extension": ".py",
      "mimetype": "text/x-python",
      "name": "python",
      "nbconvert_exporter": "python",
      "pygments_lexer": "ipython3",
      "version": "3.7.3"
    },
    "colab": {
      "name": "Logistic_regression_classifier_from_scratch.ipynb",
      "provenance": [],
      "collapsed_sections": [],
      "include_colab_link": true
    },
    "accelerator": "GPU"
  },
  "cells": [
    {
      "cell_type": "markdown",
      "metadata": {
        "id": "view-in-github",
        "colab_type": "text"
      },
      "source": [
        "<a href=\"https://colab.research.google.com/github/harshithshankar13/ISLR-python/blob/master/Logistic_regression_classifier_from_scratch.ipynb\" target=\"_parent\"><img src=\"https://colab.research.google.com/assets/colab-badge.svg\" alt=\"Open In Colab\"/></a>"
      ]
    },
    {
      "cell_type": "code",
      "metadata": {
        "id": "n26ksDUqeQzh",
        "colab_type": "code",
        "colab": {}
      },
      "source": [
        "import pandas as ps\n",
        "import numpy as np\n",
        "\n",
        "hazelnuts = ps.read_csv(\"/content/hazelnuts.txt\", sep=\"\\t\", header = None)\n",
        "hazelnuts\n",
        "hazelnutsT = hazelnuts.T\n",
        "hazelnutsT.columns = [\"sample_id\", \"length\", \"width\", \"thickness\", \"surface_area\", \"mass\", \"compactness\", \"hardness\", \"shell_top_radius\", \"water_content\", \"carbohydrate_content\", \"variety\"]"
      ],
      "execution_count": 0,
      "outputs": []
    },
    {
      "cell_type": "code",
      "metadata": {
        "id": "ij9fPS1eeQzn",
        "colab_type": "code",
        "colab": {}
      },
      "source": [
        ""
      ],
      "execution_count": 0,
      "outputs": []
    },
    {
      "cell_type": "code",
      "metadata": {
        "id": "1JMQwnno4AHH",
        "colab_type": "code",
        "colab": {}
      },
      "source": [
        "def shuffle_split_data(X, train_size):\n",
        "    arr_rand = np.random.rand(X.shape[0])\n",
        "    split = arr_rand < np.percentile(arr_rand, train_size * 100)\n",
        "\n",
        "    X_train = X[split]\n",
        "    X_test =  X[~split]\n",
        "\n",
        "    return X_train, X_test"
      ],
      "execution_count": 0,
      "outputs": []
    },
    {
      "cell_type": "code",
      "metadata": {
        "id": "1NES5TTH8Fv4",
        "colab_type": "code",
        "colab": {}
      },
      "source": [
        "def normalize_df(df):\n",
        "  df_norm = (df - df.min()) / (df.max() - df.min())\n",
        "  return df_norm"
      ],
      "execution_count": 0,
      "outputs": []
    },
    {
      "cell_type": "code",
      "metadata": {
        "id": "RjiVm_sIGEKJ",
        "colab_type": "code",
        "colab": {}
      },
      "source": [
        "from sklearn.preprocessing import normalize\n",
        "datask = normalize(data.iloc[:, 0:-1], norm='l2')\n",
        "datamy = normalize_df(data.iloc[:, 0:-1])"
      ],
      "execution_count": 0,
      "outputs": []
    },
    {
      "cell_type": "code",
      "metadata": {
        "id": "QjBju00pGhgO",
        "colab_type": "code",
        "colab": {
          "base_uri": "https://localhost:8080/",
          "height": 247
        },
        "outputId": "c89b916d-2c60-4218-867d-dc9fe70c0f02"
      },
      "source": [
        "datask.datatype()"
      ],
      "execution_count": 23,
      "outputs": [
        {
          "output_type": "execute_result",
          "data": {
            "text/plain": [
              "array([[8.47981226e-03, 9.30272464e-03, 5.85308668e-03, ...,\n",
              "        3.24107580e-03, 3.53635674e-05, 1.27160852e-04],\n",
              "       [9.62343518e-03, 9.09539604e-03, 5.10327213e-03, ...,\n",
              "        3.32195983e-03, 3.39014937e-05, 1.15953368e-04],\n",
              "       [1.26391646e-02, 9.59942398e-03, 5.88889436e-03, ...,\n",
              "        3.25632408e-03, 3.04874905e-05, 1.07121999e-04],\n",
              "       ...,\n",
              "       [1.06473543e-02, 9.52216072e-03, 5.95246035e-03, ...,\n",
              "        3.03016314e-03, 6.72584626e-05, 1.15542268e-04],\n",
              "       [1.27378842e-02, 1.02457402e-02, 5.73485361e-03, ...,\n",
              "        3.11100794e-03, 5.86812986e-05, 1.01529631e-04],\n",
              "       [1.21872566e-02, 1.01016380e-02, 5.67381210e-03, ...,\n",
              "        3.11925709e-03, 5.81820535e-05, 1.00935632e-04]])"
            ]
          },
          "metadata": {
            "tags": []
          },
          "execution_count": 23
        }
      ]
    },
    {
      "cell_type": "code",
      "metadata": {
        "id": "hWxuYfYUGkG2",
        "colab_type": "code",
        "colab": {
          "base_uri": "https://localhost:8080/",
          "height": 406
        },
        "outputId": "66de459e-02f6-4e7c-f775-c2869428aa83"
      },
      "source": [
        "datamy"
      ],
      "execution_count": 24,
      "outputs": [
        {
          "output_type": "execute_result",
          "data": {
            "text/html": [
              "<div>\n",
              "<style scoped>\n",
              "    .dataframe tbody tr th:only-of-type {\n",
              "        vertical-align: middle;\n",
              "    }\n",
              "\n",
              "    .dataframe tbody tr th {\n",
              "        vertical-align: top;\n",
              "    }\n",
              "\n",
              "    .dataframe thead th {\n",
              "        text-align: right;\n",
              "    }\n",
              "</style>\n",
              "<table border=\"1\" class=\"dataframe\">\n",
              "  <thead>\n",
              "    <tr style=\"text-align: right;\">\n",
              "      <th></th>\n",
              "      <th>length</th>\n",
              "      <th>width</th>\n",
              "      <th>thickness</th>\n",
              "      <th>surface_area</th>\n",
              "      <th>mass</th>\n",
              "      <th>compactness</th>\n",
              "      <th>hardness</th>\n",
              "      <th>shell_top_radius</th>\n",
              "      <th>water_content</th>\n",
              "      <th>carbohydrate_content</th>\n",
              "    </tr>\n",
              "  </thead>\n",
              "  <tbody>\n",
              "    <tr>\n",
              "      <th>0</th>\n",
              "      <td>0.203846</td>\n",
              "      <td>0.410375</td>\n",
              "      <td>0.619635</td>\n",
              "      <td>0.119104</td>\n",
              "      <td>0.757417</td>\n",
              "      <td>0.71511</td>\n",
              "      <td>0.794508</td>\n",
              "      <td>0.671737</td>\n",
              "      <td>0.147462</td>\n",
              "      <td>0.861077</td>\n",
              "    </tr>\n",
              "    <tr>\n",
              "      <th>1</th>\n",
              "      <td>0.342523</td>\n",
              "      <td>0.306305</td>\n",
              "      <td>0.13944</td>\n",
              "      <td>0.232028</td>\n",
              "      <td>0.855192</td>\n",
              "      <td>0.579018</td>\n",
              "      <td>0.319941</td>\n",
              "      <td>0.795683</td>\n",
              "      <td>0.116078</td>\n",
              "      <td>0.580311</td>\n",
              "    </tr>\n",
              "    <tr>\n",
              "      <th>2</th>\n",
              "      <td>0.708213</td>\n",
              "      <td>0.559305</td>\n",
              "      <td>0.642567</td>\n",
              "      <td>0.609016</td>\n",
              "      <td>0.493169</td>\n",
              "      <td>0.298989</td>\n",
              "      <td>0.141162</td>\n",
              "      <td>0.695103</td>\n",
              "      <td>0.0427957</td>\n",
              "      <td>0.35907</td>\n",
              "    </tr>\n",
              "    <tr>\n",
              "      <th>3</th>\n",
              "      <td>0.388262</td>\n",
              "      <td>0.0828492</td>\n",
              "      <td>0.126965</td>\n",
              "      <td>0.110082</td>\n",
              "      <td>0.872467</td>\n",
              "      <td>0.527808</td>\n",
              "      <td>0.538293</td>\n",
              "      <td>0.929265</td>\n",
              "      <td>0.141827</td>\n",
              "      <td>0.636485</td>\n",
              "    </tr>\n",
              "    <tr>\n",
              "      <th>4</th>\n",
              "      <td>0.44602</td>\n",
              "      <td>0.62618</td>\n",
              "      <td>0.521359</td>\n",
              "      <td>0.423239</td>\n",
              "      <td>0.653284</td>\n",
              "      <td>0.518076</td>\n",
              "      <td>0.388271</td>\n",
              "      <td>0.394553</td>\n",
              "      <td>0.10326</td>\n",
              "      <td>0.540245</td>\n",
              "    </tr>\n",
              "    <tr>\n",
              "      <th>...</th>\n",
              "      <td>...</td>\n",
              "      <td>...</td>\n",
              "      <td>...</td>\n",
              "      <td>...</td>\n",
              "      <td>...</td>\n",
              "      <td>...</td>\n",
              "      <td>...</td>\n",
              "      <td>...</td>\n",
              "      <td>...</td>\n",
              "      <td>...</td>\n",
              "    </tr>\n",
              "    <tr>\n",
              "      <th>196</th>\n",
              "      <td>0</td>\n",
              "      <td>0.642472</td>\n",
              "      <td>0.526433</td>\n",
              "      <td>0.138194</td>\n",
              "      <td>0.976579</td>\n",
              "      <td>1</td>\n",
              "      <td>0.215542</td>\n",
              "      <td>0.594028</td>\n",
              "      <td>1</td>\n",
              "      <td>0.809981</td>\n",
              "    </tr>\n",
              "    <tr>\n",
              "      <th>197</th>\n",
              "      <td>0.497845</td>\n",
              "      <td>0.475449</td>\n",
              "      <td>0.379071</td>\n",
              "      <td>0.547648</td>\n",
              "      <td>0.550207</td>\n",
              "      <td>0.260452</td>\n",
              "      <td>0.395373</td>\n",
              "      <td>0.572668</td>\n",
              "      <td>0.711661</td>\n",
              "      <td>0.388596</td>\n",
              "    </tr>\n",
              "    <tr>\n",
              "      <th>198</th>\n",
              "      <td>0.466684</td>\n",
              "      <td>0.520523</td>\n",
              "      <td>0.683276</td>\n",
              "      <td>0.377044</td>\n",
              "      <td>0.733146</td>\n",
              "      <td>0.561208</td>\n",
              "      <td>0.168887</td>\n",
              "      <td>0.348535</td>\n",
              "      <td>0.832094</td>\n",
              "      <td>0.570012</td>\n",
              "    </tr>\n",
              "    <tr>\n",
              "      <th>199</th>\n",
              "      <td>0.720184</td>\n",
              "      <td>0.883728</td>\n",
              "      <td>0.543916</td>\n",
              "      <td>0.85437</td>\n",
              "      <td>0.264224</td>\n",
              "      <td>0.236965</td>\n",
              "      <td>0.138504</td>\n",
              "      <td>0.472421</td>\n",
              "      <td>0.647983</td>\n",
              "      <td>0.218972</td>\n",
              "    </tr>\n",
              "    <tr>\n",
              "      <th>200</th>\n",
              "      <td>0.653414</td>\n",
              "      <td>0.811395</td>\n",
              "      <td>0.504824</td>\n",
              "      <td>0.870727</td>\n",
              "      <td>0.224844</td>\n",
              "      <td>0.187802</td>\n",
              "      <td>0.36738</td>\n",
              "      <td>0.485062</td>\n",
              "      <td>0.637266</td>\n",
              "      <td>0.204091</td>\n",
              "    </tr>\n",
              "  </tbody>\n",
              "</table>\n",
              "<p>201 rows × 10 columns</p>\n",
              "</div>"
            ],
            "text/plain": [
              "       length      width  ... water_content carbohydrate_content\n",
              "0    0.203846   0.410375  ...      0.147462             0.861077\n",
              "1    0.342523   0.306305  ...      0.116078             0.580311\n",
              "2    0.708213   0.559305  ...     0.0427957              0.35907\n",
              "3    0.388262  0.0828492  ...      0.141827             0.636485\n",
              "4     0.44602    0.62618  ...       0.10326             0.540245\n",
              "..        ...        ...  ...           ...                  ...\n",
              "196         0   0.642472  ...             1             0.809981\n",
              "197  0.497845   0.475449  ...      0.711661             0.388596\n",
              "198  0.466684   0.520523  ...      0.832094             0.570012\n",
              "199  0.720184   0.883728  ...      0.647983             0.218972\n",
              "200  0.653414   0.811395  ...      0.637266             0.204091\n",
              "\n",
              "[201 rows x 10 columns]"
            ]
          },
          "metadata": {
            "tags": []
          },
          "execution_count": 24
        }
      ]
    },
    {
      "cell_type": "code",
      "metadata": {
        "id": "_XAA5xdtJuCH",
        "colab_type": "code",
        "outputId": "8270da90-d092-4378-82de-175b44fd18c7",
        "colab": {
          "base_uri": "https://localhost:8080/",
          "height": 283
        }
      },
      "source": [
        "data = hazelnutsT.iloc[:,1:]\n",
        "labels = hazelnutsT[\"variety\"]\n",
        "\n",
        "from sklearn.preprocessing import normalize\n",
        "data.iloc[:, 0:-1] = datamy = normalize_df(data.iloc[:, 0:-1])\n",
        "data.iloc[:, 0:-1] = np.float_(data.iloc[:, 0:-1])\n",
        "\n",
        "data_training, data_testing = shuffle_split_data(data, train_size = 0.70)"
      ],
      "execution_count": 25,
      "outputs": [
        {
          "output_type": "stream",
          "text": [
            "/usr/local/lib/python3.6/dist-packages/pandas/core/indexing.py:205: SettingWithCopyWarning: \n",
            "A value is trying to be set on a copy of a slice from a DataFrame\n",
            "\n",
            "See the caveats in the documentation: http://pandas.pydata.org/pandas-docs/stable/user_guide/indexing.html#returning-a-view-versus-a-copy\n",
            "  self._setitem_with_indexer(indexer, value)\n",
            "/usr/local/lib/python3.6/dist-packages/ipykernel_launcher.py:5: SettingWithCopyWarning: \n",
            "A value is trying to be set on a copy of a slice from a DataFrame\n",
            "\n",
            "See the caveats in the documentation: http://pandas.pydata.org/pandas-docs/stable/user_guide/indexing.html#returning-a-view-versus-a-copy\n",
            "  \"\"\"\n",
            "/usr/local/lib/python3.6/dist-packages/ipykernel_launcher.py:6: SettingWithCopyWarning: \n",
            "A value is trying to be set on a copy of a slice from a DataFrame\n",
            "\n",
            "See the caveats in the documentation: http://pandas.pydata.org/pandas-docs/stable/user_guide/indexing.html#returning-a-view-versus-a-copy\n",
            "  \n"
          ],
          "name": "stderr"
        }
      ]
    },
    {
      "cell_type": "code",
      "metadata": {
        "id": "7eSqW6zytFml",
        "colab_type": "code",
        "outputId": "1fe6e1dd-49a5-4fee-800f-dadb6f2ea00b",
        "colab": {
          "base_uri": "https://localhost:8080/",
          "height": 406
        }
      },
      "source": [
        "data"
      ],
      "execution_count": 26,
      "outputs": [
        {
          "output_type": "execute_result",
          "data": {
            "text/html": [
              "<div>\n",
              "<style scoped>\n",
              "    .dataframe tbody tr th:only-of-type {\n",
              "        vertical-align: middle;\n",
              "    }\n",
              "\n",
              "    .dataframe tbody tr th {\n",
              "        vertical-align: top;\n",
              "    }\n",
              "\n",
              "    .dataframe thead th {\n",
              "        text-align: right;\n",
              "    }\n",
              "</style>\n",
              "<table border=\"1\" class=\"dataframe\">\n",
              "  <thead>\n",
              "    <tr style=\"text-align: right;\">\n",
              "      <th></th>\n",
              "      <th>length</th>\n",
              "      <th>width</th>\n",
              "      <th>thickness</th>\n",
              "      <th>surface_area</th>\n",
              "      <th>mass</th>\n",
              "      <th>compactness</th>\n",
              "      <th>hardness</th>\n",
              "      <th>shell_top_radius</th>\n",
              "      <th>water_content</th>\n",
              "      <th>carbohydrate_content</th>\n",
              "      <th>variety</th>\n",
              "    </tr>\n",
              "  </thead>\n",
              "  <tbody>\n",
              "    <tr>\n",
              "      <th>0</th>\n",
              "      <td>0.203846</td>\n",
              "      <td>0.410375</td>\n",
              "      <td>0.619635</td>\n",
              "      <td>0.119104</td>\n",
              "      <td>0.757417</td>\n",
              "      <td>0.71511</td>\n",
              "      <td>0.794508</td>\n",
              "      <td>0.671737</td>\n",
              "      <td>0.147462</td>\n",
              "      <td>0.861077</td>\n",
              "      <td>c_avellana</td>\n",
              "    </tr>\n",
              "    <tr>\n",
              "      <th>1</th>\n",
              "      <td>0.342523</td>\n",
              "      <td>0.306305</td>\n",
              "      <td>0.13944</td>\n",
              "      <td>0.232028</td>\n",
              "      <td>0.855192</td>\n",
              "      <td>0.579018</td>\n",
              "      <td>0.319941</td>\n",
              "      <td>0.795683</td>\n",
              "      <td>0.116078</td>\n",
              "      <td>0.580311</td>\n",
              "      <td>c_avellana</td>\n",
              "    </tr>\n",
              "    <tr>\n",
              "      <th>2</th>\n",
              "      <td>0.708213</td>\n",
              "      <td>0.559305</td>\n",
              "      <td>0.642567</td>\n",
              "      <td>0.609016</td>\n",
              "      <td>0.493169</td>\n",
              "      <td>0.298989</td>\n",
              "      <td>0.141162</td>\n",
              "      <td>0.695103</td>\n",
              "      <td>0.0427957</td>\n",
              "      <td>0.35907</td>\n",
              "      <td>c_americana</td>\n",
              "    </tr>\n",
              "    <tr>\n",
              "      <th>3</th>\n",
              "      <td>0.388262</td>\n",
              "      <td>0.0828492</td>\n",
              "      <td>0.126965</td>\n",
              "      <td>0.110082</td>\n",
              "      <td>0.872467</td>\n",
              "      <td>0.527808</td>\n",
              "      <td>0.538293</td>\n",
              "      <td>0.929265</td>\n",
              "      <td>0.141827</td>\n",
              "      <td>0.636485</td>\n",
              "      <td>c_avellana</td>\n",
              "    </tr>\n",
              "    <tr>\n",
              "      <th>4</th>\n",
              "      <td>0.44602</td>\n",
              "      <td>0.62618</td>\n",
              "      <td>0.521359</td>\n",
              "      <td>0.423239</td>\n",
              "      <td>0.653284</td>\n",
              "      <td>0.518076</td>\n",
              "      <td>0.388271</td>\n",
              "      <td>0.394553</td>\n",
              "      <td>0.10326</td>\n",
              "      <td>0.540245</td>\n",
              "      <td>c_americana</td>\n",
              "    </tr>\n",
              "    <tr>\n",
              "      <th>...</th>\n",
              "      <td>...</td>\n",
              "      <td>...</td>\n",
              "      <td>...</td>\n",
              "      <td>...</td>\n",
              "      <td>...</td>\n",
              "      <td>...</td>\n",
              "      <td>...</td>\n",
              "      <td>...</td>\n",
              "      <td>...</td>\n",
              "      <td>...</td>\n",
              "      <td>...</td>\n",
              "    </tr>\n",
              "    <tr>\n",
              "      <th>196</th>\n",
              "      <td>0</td>\n",
              "      <td>0.642472</td>\n",
              "      <td>0.526433</td>\n",
              "      <td>0.138194</td>\n",
              "      <td>0.976579</td>\n",
              "      <td>1</td>\n",
              "      <td>0.215542</td>\n",
              "      <td>0.594028</td>\n",
              "      <td>1</td>\n",
              "      <td>0.809981</td>\n",
              "      <td>c_cornuta</td>\n",
              "    </tr>\n",
              "    <tr>\n",
              "      <th>197</th>\n",
              "      <td>0.497845</td>\n",
              "      <td>0.475449</td>\n",
              "      <td>0.379071</td>\n",
              "      <td>0.547648</td>\n",
              "      <td>0.550207</td>\n",
              "      <td>0.260452</td>\n",
              "      <td>0.395373</td>\n",
              "      <td>0.572668</td>\n",
              "      <td>0.711661</td>\n",
              "      <td>0.388596</td>\n",
              "      <td>c_cornuta</td>\n",
              "    </tr>\n",
              "    <tr>\n",
              "      <th>198</th>\n",
              "      <td>0.466684</td>\n",
              "      <td>0.520523</td>\n",
              "      <td>0.683276</td>\n",
              "      <td>0.377044</td>\n",
              "      <td>0.733146</td>\n",
              "      <td>0.561208</td>\n",
              "      <td>0.168887</td>\n",
              "      <td>0.348535</td>\n",
              "      <td>0.832094</td>\n",
              "      <td>0.570012</td>\n",
              "      <td>c_americana</td>\n",
              "    </tr>\n",
              "    <tr>\n",
              "      <th>199</th>\n",
              "      <td>0.720184</td>\n",
              "      <td>0.883728</td>\n",
              "      <td>0.543916</td>\n",
              "      <td>0.85437</td>\n",
              "      <td>0.264224</td>\n",
              "      <td>0.236965</td>\n",
              "      <td>0.138504</td>\n",
              "      <td>0.472421</td>\n",
              "      <td>0.647983</td>\n",
              "      <td>0.218972</td>\n",
              "      <td>c_cornuta</td>\n",
              "    </tr>\n",
              "    <tr>\n",
              "      <th>200</th>\n",
              "      <td>0.653414</td>\n",
              "      <td>0.811395</td>\n",
              "      <td>0.504824</td>\n",
              "      <td>0.870727</td>\n",
              "      <td>0.224844</td>\n",
              "      <td>0.187802</td>\n",
              "      <td>0.36738</td>\n",
              "      <td>0.485062</td>\n",
              "      <td>0.637266</td>\n",
              "      <td>0.204091</td>\n",
              "      <td>c_cornuta</td>\n",
              "    </tr>\n",
              "  </tbody>\n",
              "</table>\n",
              "<p>201 rows × 11 columns</p>\n",
              "</div>"
            ],
            "text/plain": [
              "       length      width  ... carbohydrate_content      variety\n",
              "0    0.203846   0.410375  ...             0.861077   c_avellana\n",
              "1    0.342523   0.306305  ...             0.580311   c_avellana\n",
              "2    0.708213   0.559305  ...              0.35907  c_americana\n",
              "3    0.388262  0.0828492  ...             0.636485   c_avellana\n",
              "4     0.44602    0.62618  ...             0.540245  c_americana\n",
              "..        ...        ...  ...                  ...          ...\n",
              "196         0   0.642472  ...             0.809981    c_cornuta\n",
              "197  0.497845   0.475449  ...             0.388596    c_cornuta\n",
              "198  0.466684   0.520523  ...             0.570012  c_americana\n",
              "199  0.720184   0.883728  ...             0.218972    c_cornuta\n",
              "200  0.653414   0.811395  ...             0.204091    c_cornuta\n",
              "\n",
              "[201 rows x 11 columns]"
            ]
          },
          "metadata": {
            "tags": []
          },
          "execution_count": 26
        }
      ]
    },
    {
      "cell_type": "code",
      "metadata": {
        "id": "C0J8fqZ_eQz2",
        "colab_type": "code",
        "colab": {}
      },
      "source": [
        "X_train = np.float_(data_training.iloc[:, 0:-1])\n",
        "X_test = np.float_(data_testing.iloc[:, 0:-1])\n",
        "y_training = data_training.iloc[:,-1]\n",
        "y_testing = data_testing.iloc[:,-1]"
      ],
      "execution_count": 0,
      "outputs": []
    },
    {
      "cell_type": "code",
      "metadata": {
        "id": "l5NgJZqfJUhA",
        "colab_type": "code",
        "outputId": "bd956acc-7765-4167-b045-ef9ed011a1eb",
        "colab": {
          "base_uri": "https://localhost:8080/",
          "height": 70
        }
      },
      "source": [
        "import itertools\n",
        "\n",
        "#features = np.float_(features).tolist()\n",
        "labels = labels\n",
        "unique_labels = list(set(labels))\n",
        "label_name = \"variety\"\n",
        "classes_list = list(itertools.combinations(unique_labels, 2))\n",
        "classes_dict = {}\n",
        "for classes in classes_list:\n",
        "    classes_dict[classes] = []\n",
        "\n",
        "classes_dict"
      ],
      "execution_count": 28,
      "outputs": [
        {
          "output_type": "execute_result",
          "data": {
            "text/plain": [
              "{('c_americana', 'c_avellana'): [],\n",
              " ('c_cornuta', 'c_americana'): [],\n",
              " ('c_cornuta', 'c_avellana'): []}"
            ]
          },
          "metadata": {
            "tags": []
          },
          "execution_count": 28
        }
      ]
    },
    {
      "cell_type": "code",
      "metadata": {
        "id": "JVR_7FObMAlP",
        "colab_type": "code",
        "outputId": "812fb8e9-bb22-4710-af6a-af71536637d4",
        "colab": {
          "base_uri": "https://localhost:8080/",
          "height": 194
        }
      },
      "source": [
        "for binclass,vectors in classes_dict.items():\n",
        "  classes_dict[binclass] = data_training[(data_training[label_name] == binclass[0]) | (data_training[label_name] == binclass[1])]\n",
        "  classes_dict[binclass][label_name][classes_dict[binclass][label_name] == binclass[0]] = 0 \n",
        "  classes_dict[binclass][label_name][classes_dict[binclass][label_name] == binclass[1]] = 1"
      ],
      "execution_count": 29,
      "outputs": [
        {
          "output_type": "stream",
          "text": [
            "/usr/local/lib/python3.6/dist-packages/pandas/core/generic.py:9114: SettingWithCopyWarning: \n",
            "A value is trying to be set on a copy of a slice from a DataFrame\n",
            "\n",
            "See the caveats in the documentation: http://pandas.pydata.org/pandas-docs/stable/user_guide/indexing.html#returning-a-view-versus-a-copy\n",
            "  self._update_inplace(new_data)\n",
            "/usr/local/lib/python3.6/dist-packages/IPython/core/interactiveshell.py:2882: SettingWithCopyWarning: \n",
            "A value is trying to be set on a copy of a slice from a DataFrame\n",
            "\n",
            "See the caveats in the documentation: http://pandas.pydata.org/pandas-docs/stable/user_guide/indexing.html#returning-a-view-versus-a-copy\n",
            "  exec(code_obj, self.user_global_ns, self.user_ns)\n"
          ],
          "name": "stderr"
        }
      ]
    },
    {
      "cell_type": "code",
      "metadata": {
        "id": "jgxeBNf-Cu0I",
        "colab_type": "code",
        "outputId": "259006e1-42c0-4cbc-f839-8ac9e858fac3",
        "colab": {
          "base_uri": "https://localhost:8080/",
          "height": 816
        }
      },
      "source": [
        "classes_dict"
      ],
      "execution_count": 30,
      "outputs": [
        {
          "output_type": "execute_result",
          "data": {
            "text/plain": [
              "{('c_americana',\n",
              "  'c_avellana'):        length     width thickness  ... water_content carbohydrate_content variety\n",
              " 0    0.203846  0.410375  0.619635  ...      0.147462             0.861077       1\n",
              " 2    0.708213  0.559305  0.642567  ...     0.0427957              0.35907       0\n",
              " 11   0.237264  0.148676  0.287926  ...      0.215253             0.779666       1\n",
              " 13   0.495823  0.515795  0.346711  ...      0.125734             0.520057       0\n",
              " 15   0.423704  0.441355  0.564329  ...       0.16314             0.549985       0\n",
              " ..        ...       ...       ...  ...           ...                  ...     ...\n",
              " 190  0.420605  0.576547  0.394826  ...      0.752824             0.407256       0\n",
              " 191  0.532945  0.591939  0.583364  ...      0.722743             0.388742       0\n",
              " 192  0.571089   0.59238  0.678537  ...      0.717502             0.365057       0\n",
              " 194  0.306838   0.57253  0.327695  ...      0.835914             0.613855       0\n",
              " 195  0.169862   0.59672  0.635151  ...       0.92941             0.728672       1\n",
              " \n",
              " [96 rows x 11 columns],\n",
              " ('c_cornuta',\n",
              "  'c_americana'):        length     width thickness  ... water_content carbohydrate_content variety\n",
              " 2    0.708213  0.559305  0.642567  ...     0.0427957              0.35907       1\n",
              " 5    0.681239  0.881201  0.517742  ...     0.0310901             0.180465       0\n",
              " 13   0.495823  0.515795  0.346711  ...      0.125734             0.520057       1\n",
              " 14   0.612891   0.82093  0.535207  ...      0.071638              0.28627       0\n",
              " 15   0.423704  0.441355  0.564329  ...       0.16314             0.549985       1\n",
              " ..        ...       ...       ...  ...           ...                  ...     ...\n",
              " 194  0.306838   0.57253  0.327695  ...      0.835914             0.613855       1\n",
              " 196         0  0.642472  0.526433  ...             1             0.809981       0\n",
              " 197  0.497845  0.475449  0.379071  ...      0.711661             0.388596       0\n",
              " 199  0.720184  0.883728  0.543916  ...      0.647983             0.218972       0\n",
              " 200  0.653414  0.811395  0.504824  ...      0.637266             0.204091       0\n",
              " \n",
              " [97 rows x 11 columns],\n",
              " ('c_cornuta',\n",
              "  'c_avellana'):        length     width thickness  ... water_content carbohydrate_content variety\n",
              " 0    0.203846  0.410375  0.619635  ...      0.147462             0.861077       1\n",
              " 5    0.681239  0.881201  0.517742  ...     0.0310901             0.180465       0\n",
              " 11   0.237264  0.148676  0.287926  ...      0.215253             0.779666       1\n",
              " 14   0.612891   0.82093  0.535207  ...      0.071638              0.28627       0\n",
              " 17   0.704338  0.936516   0.65093  ...     0.0621878             0.182783       0\n",
              " ..        ...       ...       ...  ...           ...                  ...     ...\n",
              " 195  0.169862   0.59672  0.635151  ...       0.92941             0.728672       1\n",
              " 196         0  0.642472  0.526433  ...             1             0.809981       0\n",
              " 197  0.497845  0.475449  0.379071  ...      0.711661             0.388596       0\n",
              " 199  0.720184  0.883728  0.543916  ...      0.647983             0.218972       0\n",
              " 200  0.653414  0.811395  0.504824  ...      0.637266             0.204091       0\n",
              " \n",
              " [87 rows x 11 columns]}"
            ]
          },
          "metadata": {
            "tags": []
          },
          "execution_count": 30
        }
      ]
    },
    {
      "cell_type": "code",
      "metadata": {
        "id": "Cax2wjSgQM1c",
        "colab_type": "code",
        "colab": {}
      },
      "source": [
        "#classes_dict[binclass][label_name]"
      ],
      "execution_count": 0,
      "outputs": []
    },
    {
      "cell_type": "code",
      "metadata": {
        "id": "2xshCMMGNpKU",
        "colab_type": "code",
        "colab": {}
      },
      "source": [
        "#classes_dict[binclass].iloc[:,1:-1]"
      ],
      "execution_count": 0,
      "outputs": []
    },
    {
      "cell_type": "code",
      "metadata": {
        "id": "95BnsdH3eQzk",
        "colab_type": "code",
        "colab": {}
      },
      "source": [
        "#hazelnutsT.head()"
      ],
      "execution_count": 0,
      "outputs": []
    },
    {
      "cell_type": "code",
      "metadata": {
        "id": "_GCZtdi2eQzs",
        "colab_type": "code",
        "colab": {}
      },
      "source": [
        "#NOt Required Just for referebnce\n",
        "'''\n",
        "hazelnutsT = hazelnutsT[hazelnutsT[\"variety\"]!= \"c_avellana\"]\n",
        "hazelnutsT.loc[hazelnutsT[\"variety\"] == \"c_cornuta\", \"variety\"] = 0\n",
        "hazelnutsT.loc[hazelnutsT[\"variety\"] == \"c_americana\", \"variety\"] = 1\n",
        "#hazelnutsT'''"
      ],
      "execution_count": 0,
      "outputs": []
    },
    {
      "cell_type": "code",
      "metadata": {
        "id": "gXds13wBeQzv",
        "colab_type": "code",
        "colab": {}
      },
      "source": [
        "'''X = classes_dict[binclass].iloc[:,1:-1]\n",
        "y = classes_dict[binclass][label_name]\n",
        "\n",
        "X_train, X_test, y_train, y_test = train_test_split(X, y, test_size = 0.30, random_state = 101)\n",
        "#X_train'''"
      ],
      "execution_count": 0,
      "outputs": []
    },
    {
      "cell_type": "code",
      "metadata": {
        "id": "Pg2iOwDteQzp",
        "colab_type": "code",
        "outputId": "8900a458-ba38-4132-8432-c0d125f150bb",
        "colab": {
          "base_uri": "https://localhost:8080/",
          "height": 34
        }
      },
      "source": [
        "'''from sklearn.preprocessing import normalize\n",
        "X_train = normalize(X_train, norm='l2')\n",
        "X_test = normalize(X_test, norm='l2')'''"
      ],
      "execution_count": 0,
      "outputs": [
        {
          "output_type": "execute_result",
          "data": {
            "text/plain": [
              "\"from sklearn.preprocessing import normalize\\nX_train = normalize(X_train, norm='l2')\\nX_test = normalize(X_test, norm='l2')\""
            ]
          },
          "metadata": {
            "tags": []
          },
          "execution_count": 145
        }
      ]
    },
    {
      "cell_type": "code",
      "metadata": {
        "id": "NKVReniKeQzx",
        "colab_type": "code",
        "colab": {}
      },
      "source": [
        "class LogisticRegression:\n",
        "    def __init__(self, lr=0.01, num_iter=100000, fit_intercept=True, verbose=False):\n",
        "        self.lr = lr\n",
        "        self.num_iter = num_iter\n",
        "        self.fit_intercept = fit_intercept\n",
        "        self.verbose = verbose\n",
        "    \n",
        "    def __add_intercept(self, X):\n",
        "        intercept = np.ones((X.shape[0], 1))\n",
        "        return np.concatenate((intercept, X), axis=1)\n",
        "    \n",
        "    def __sigmoid(self, z):\n",
        "        return 1 / (1 + np.exp(-z))\n",
        "    def __loss(self, h, y):\n",
        "        return (-y * np.log(h) - (1 - y) * np.log(1 - h)).mean()\n",
        "    \n",
        "    def fit(self, X, y):\n",
        "        if self.fit_intercept:\n",
        "            X = self.__add_intercept(X)\n",
        "        \n",
        "        # weights initialization\n",
        "        self.theta = np.zeros(X.shape[1])\n",
        "        \n",
        "        for i in range(self.num_iter):\n",
        "            z = np.array(np.dot(X, self.theta),dtype=np.float32)\n",
        "            #print(z)\n",
        "            h = self.__sigmoid(z)\n",
        "            gradient = np.dot(X.T, (h - y)) / y.size\n",
        "            self.theta = self.theta - self.lr * gradient\n",
        "            \n",
        "            z = np.array(np.dot(X, self.theta),dtype=np.float32)\n",
        "            h = self.__sigmoid(z)\n",
        "            loss = self.__loss(h, y)\n",
        "                \n",
        "            if(self.verbose ==True and i % 10000 == 0):\n",
        "                print(f'loss: {loss} \\t')\n",
        "\n",
        "        return self.theta\n",
        "    \n",
        "    def predict_prob(self, X, theta):\n",
        "        self.theta = theta\n",
        "        if self.fit_intercept:\n",
        "            X = self.__add_intercept(X)\n",
        "    \n",
        "        return self.__sigmoid(np.array(np.dot(X, self.theta),dtype=np.float32))\n",
        "        \n",
        "    #def predict(self, X, theta):\n",
        "     #   return self.predict_prob(X, theta).round()"
      ],
      "execution_count": 0,
      "outputs": []
    },
    {
      "cell_type": "code",
      "metadata": {
        "id": "GPRwFCCReQz0",
        "colab_type": "code",
        "colab": {}
      },
      "source": [
        "model = LogisticRegression(lr=0.1, num_iter=300000)"
      ],
      "execution_count": 0,
      "outputs": []
    },
    {
      "cell_type": "code",
      "metadata": {
        "id": "RARER9DUeQz4",
        "colab_type": "code",
        "outputId": "d3857c59-895a-4933-80d5-32fbf8e0ace1",
        "colab": {
          "base_uri": "https://localhost:8080/",
          "height": 51
        }
      },
      "source": [
        "%time "
      ],
      "execution_count": 0,
      "outputs": [
        {
          "output_type": "stream",
          "text": [
            "CPU times: user 3 µs, sys: 0 ns, total: 3 µs\n",
            "Wall time: 5.96 µs\n"
          ],
          "name": "stdout"
        }
      ]
    },
    {
      "cell_type": "code",
      "metadata": {
        "id": "evUiInQNnlPk",
        "colab_type": "code",
        "outputId": "9705680d-294c-4adb-9208-b0032269fd84",
        "colab": {
          "base_uri": "https://localhost:8080/",
          "height": 221
        }
      },
      "source": [
        "X1 = classes_dict[('c_cornuta',\n",
        "  'c_avellana')].iloc[:,0:-1]\n",
        "X1 = np.float_(X1)\n",
        "X1.shape[1]"
      ],
      "execution_count": 14,
      "outputs": [
        {
          "output_type": "error",
          "ename": "KeyError",
          "evalue": "ignored",
          "traceback": [
            "\u001b[0;31m---------------------------------------------------------------------------\u001b[0m",
            "\u001b[0;31mKeyError\u001b[0m                                  Traceback (most recent call last)",
            "\u001b[0;32m<ipython-input-14-8574bb7f1d36>\u001b[0m in \u001b[0;36m<module>\u001b[0;34m()\u001b[0m\n\u001b[1;32m      1\u001b[0m X1 = classes_dict[('c_cornuta',\n\u001b[0;32m----> 2\u001b[0;31m   'c_avellana')].iloc[:,0:-1]\n\u001b[0m\u001b[1;32m      3\u001b[0m \u001b[0mX1\u001b[0m \u001b[0;34m=\u001b[0m \u001b[0mnp\u001b[0m\u001b[0;34m.\u001b[0m\u001b[0mfloat_\u001b[0m\u001b[0;34m(\u001b[0m\u001b[0mX1\u001b[0m\u001b[0;34m)\u001b[0m\u001b[0;34m\u001b[0m\u001b[0;34m\u001b[0m\u001b[0m\n\u001b[1;32m      4\u001b[0m \u001b[0mX1\u001b[0m\u001b[0;34m.\u001b[0m\u001b[0mshape\u001b[0m\u001b[0;34m[\u001b[0m\u001b[0;36m1\u001b[0m\u001b[0;34m]\u001b[0m\u001b[0;34m\u001b[0m\u001b[0;34m\u001b[0m\u001b[0m\n",
            "\u001b[0;31mKeyError\u001b[0m: ('c_cornuta', 'c_avellana')"
          ]
        }
      ]
    },
    {
      "cell_type": "code",
      "metadata": {
        "id": "1LiWubhdeQz7",
        "colab_type": "code",
        "outputId": "1e7c2c31-dfe3-472d-c323-8eddcf615169",
        "colab": {
          "base_uri": "https://localhost:8080/",
          "height": 87
        }
      },
      "source": [
        "%time \n",
        "theta_dict = {}\n",
        "for classes in classes_list:\n",
        "    theta_dict[classes] = []\n",
        "\n",
        "for binclass,vectors in theta_dict.items():\n",
        "    X1 = classes_dict[binclass].iloc[:,0:-1]\n",
        "    y1 = classes_dict[binclass][label_name] \n",
        "\n",
        "    #X1 = np.float_(X1)\n",
        "\n",
        "    #X_train, X_test, y_train, y_test = shuffle_split_data(X, )\n",
        "    #print(X1.shape[1])\n",
        "    #from sklearn.preprocessing import normalize\n",
        "    #X_train = normalize(X_train, norm='l2')\n",
        "    theta_dict[binclass] = model.fit(X1, y1)"
      ],
      "execution_count": 33,
      "outputs": [
        {
          "output_type": "stream",
          "text": [
            "CPU times: user 5 µs, sys: 0 ns, total: 5 µs\n",
            "Wall time: 9.3 µs\n"
          ],
          "name": "stdout"
        },
        {
          "output_type": "stream",
          "text": [
            "/usr/local/lib/python3.6/dist-packages/ipykernel_launcher.py:15: RuntimeWarning: divide by zero encountered in log\n",
            "  from ipykernel import kernelapp as app\n"
          ],
          "name": "stderr"
        }
      ]
    },
    {
      "cell_type": "code",
      "metadata": {
        "id": "Fm6dmFmIbWeC",
        "colab_type": "code",
        "outputId": "64fa4fbc-f44a-4dd2-e466-cd38a0a3c547",
        "colab": {
          "base_uri": "https://localhost:8080/",
          "height": 34
        }
      },
      "source": [
        "len(theta_dict[('c_cornuta',\n",
        "  'c_avellana')])"
      ],
      "execution_count": 12,
      "outputs": [
        {
          "output_type": "execute_result",
          "data": {
            "text/plain": [
              "11"
            ]
          },
          "metadata": {
            "tags": []
          },
          "execution_count": 12
        }
      ]
    },
    {
      "cell_type": "code",
      "metadata": {
        "id": "2ApWC23Sv0rk",
        "colab_type": "code",
        "outputId": "de68e240-4122-4c16-ac28-71350496004d",
        "colab": {
          "base_uri": "https://localhost:8080/",
          "height": 283
        }
      },
      "source": [
        "theta_dict"
      ],
      "execution_count": 34,
      "outputs": [
        {
          "output_type": "execute_result",
          "data": {
            "text/plain": [
              "{('c_americana',\n",
              "  'c_avellana'): array([-12.388964329358016, -21.08044913031658, -4.461799662234219,\n",
              "        12.668628188739866, -12.892388285764953, -5.178006729011526,\n",
              "        7.031715428266417, 8.246381948353388, 35.053465908685176,\n",
              "        3.196529924758911, -9.70378647026356], dtype=object),\n",
              " ('c_cornuta',\n",
              "  'c_americana'): array([3.90546360979611, 24.82446007417359, -9.02560190731088,\n",
              "        13.29439835575359, -16.581892650951925, 20.82850099074513,\n",
              "        3.908652172315715, -0.25338539609241045, -36.09414895448121,\n",
              "        -10.770585070622003, 4.993165801417491], dtype=object),\n",
              " ('c_cornuta',\n",
              "  'c_avellana'): array([-0.4453535992070299, 2.1373754181599374, -17.34828166848104,\n",
              "        14.085336740313561, -10.473002023360214, 5.631533935789277,\n",
              "        0.3275101895183335, 11.723495307081159, -6.150352388651253,\n",
              "        -16.813976893193004, 19.920217640991126], dtype=object)}"
            ]
          },
          "metadata": {
            "tags": []
          },
          "execution_count": 34
        }
      ]
    },
    {
      "cell_type": "code",
      "metadata": {
        "id": "IoNtsxht3huT",
        "colab_type": "code",
        "outputId": "c4087b0b-8deb-49cc-bc3a-bca17b7591bd",
        "colab": {
          "base_uri": "https://localhost:8080/",
          "height": 34
        }
      },
      "source": [
        "X_test.shape[1]"
      ],
      "execution_count": 0,
      "outputs": [
        {
          "output_type": "execute_result",
          "data": {
            "text/plain": [
              "10"
            ]
          },
          "metadata": {
            "tags": []
          },
          "execution_count": 184
        }
      ]
    },
    {
      "cell_type": "code",
      "metadata": {
        "id": "k3GXBHHPeQ1B",
        "colab_type": "code",
        "outputId": "9f1c74c6-f8ab-4567-cc05-946547061dfc",
        "colab": {
          "base_uri": "https://localhost:8080/",
          "height": 194
        }
      },
      "source": [
        "preds_dict = {}\n",
        "for classes in classes_list:\n",
        "    preds_dict[classes] = []\n",
        "\n",
        "'''\n",
        "X = classes_dict[binclass].iloc[:,1:-1]\n",
        "y = classes_dict[binclass][label_name] \n",
        "\n",
        "X_train, X_test, y_train, y_test = train_test_split(X, y, test_size = 0.30)\n",
        "print(len(X))\n",
        "from sklearn.preprocessing import normalize\n",
        "X_test = normalize(X_test, norm='l2')\n",
        "'''\n",
        "\n",
        "for binclass,vectors in theta_dict.items():\n",
        "    preds = model.predict(X_test, vectors)\n",
        "    #print(len(X_test))\n",
        "    preds_dict[binclass] = preds\n",
        "\n",
        "print(preds_dict)"
      ],
      "execution_count": 35,
      "outputs": [
        {
          "output_type": "stream",
          "text": [
            "{('c_cornuta', 'c_americana'): array([1., 1., 1., 1., 0., 1., 1., 0., 1., 1., 0., 1., 1., 1., 0., 0., 0.,\n",
            "       0., 0., 1., 0., 1., 0., 1., 0., 0., 0., 1., 1., 1., 0., 0., 1., 1.,\n",
            "       1., 1., 0., 0., 0., 0., 1., 0., 1., 1., 0., 1., 0., 0., 1., 0., 1.,\n",
            "       0., 0., 0., 1., 0., 0., 1., 1., 0., 1.], dtype=float32), ('c_cornuta', 'c_avellana'): array([1., 1., 1., 0., 1., 1., 1., 0., 1., 1., 0., 1., 1., 1., 1., 0., 1.,\n",
            "       0., 0., 1., 0., 1., 1., 1., 1., 0., 0., 1., 1., 1., 0., 0., 1., 0.,\n",
            "       1., 1., 0., 0., 1., 0., 1., 1., 1., 0., 0., 0., 0., 1., 1., 0., 1.,\n",
            "       1., 0., 0., 0., 0., 0., 1., 0., 0., 0.], dtype=float32), ('c_americana', 'c_avellana'): array([1., 1., 0., 0., 1., 0., 0., 0., 1., 0., 0., 0., 1., 1., 1., 0., 1.,\n",
            "       0., 0., 0., 0., 1., 1., 1., 1., 0., 0., 1., 1., 0., 0., 0., 0., 0.,\n",
            "       0., 1., 0., 0., 1., 0., 0., 1., 1., 0., 0., 0., 1., 1., 1., 0., 1.,\n",
            "       1., 0., 1., 0., 0., 0., 0., 0., 0., 0.], dtype=float32)}\n"
          ],
          "name": "stdout"
        }
      ]
    },
    {
      "cell_type": "code",
      "metadata": {
        "id": "jtRgFOcJLztb",
        "colab_type": "code",
        "outputId": "c028f44d-9451-44f7-bdef-9d017e715105",
        "colab": {
          "base_uri": "https://localhost:8080/",
          "height": 283
        }
      },
      "source": [
        "preds_dict"
      ],
      "execution_count": 23,
      "outputs": [
        {
          "output_type": "execute_result",
          "data": {
            "text/plain": [
              "{('c_americana',\n",
              "  'c_avellana'): array([0., 0., 0., 1., 0., 0., 1., 0., 1., 1., 1., 0., 1., 0., 0., 0., 1.,\n",
              "        1., 0., 1., 0., 1., 0., 0., 1., 0., 1., 0., 0., 0., 0., 0., 0., 0.,\n",
              "        1., 0., 0., 1., 0., 1., 0., 1., 0., 0., 0., 0., 1., 1., 0., 0., 0.,\n",
              "        0., 1., 1., 0., 0., 0., 0., 0., 1., 0.], dtype=float32),\n",
              " ('c_americana',\n",
              "  'c_cornuta'): array([1., 0., 1., 0., 0., 1., 0., 0., 0., 0., 0., 1., 0., 0., 0., 1., 0.,\n",
              "        1., 1., 0., 0., 0., 1., 0., 0., 0., 0., 0., 0., 1., 1., 1., 1., 1.,\n",
              "        0., 0., 1., 0., 1., 0., 1., 0., 1., 1., 0., 0., 1., 0., 1., 0., 1.,\n",
              "        1., 0., 0., 0., 1., 0., 1., 0., 0., 1.], dtype=float32),\n",
              " ('c_avellana',\n",
              "  'c_cornuta'): array([1., 1., 1., 0., 1., 1., 0., 1., 0., 0., 0., 1., 0., 1., 1., 1., 0.,\n",
              "        0., 1., 0., 1., 0., 1., 1., 0., 1., 0., 0., 1., 1., 1., 1., 1., 1.,\n",
              "        0., 1., 1., 0., 1., 0., 1., 0., 1., 1., 0., 0., 1., 0., 1., 1., 1.,\n",
              "        1., 0., 0., 1., 1., 0., 1., 1., 0., 1.], dtype=float32)}"
            ]
          },
          "metadata": {
            "tags": []
          },
          "execution_count": 23
        }
      ]
    },
    {
      "cell_type": "code",
      "metadata": {
        "id": "OZR5ajmveQ1E",
        "colab_type": "code",
        "outputId": "ec790f09-7de2-4361-94e9-0d2673b266c4",
        "colab": {
          "base_uri": "https://localhost:8080/",
          "height": 34
        }
      },
      "source": [
        "'''print(X_test.shape[0], X_test.shape[1] )\n",
        "print(\"pred: \", preds.size)\n",
        "print(preds, '--',y_test)\n",
        "'''\n",
        "#"
      ],
      "execution_count": 0,
      "outputs": [
        {
          "output_type": "execute_result",
          "data": {
            "text/plain": [
              "'print(X_test.shape[0], X_test.shape[1] )\\nprint(\"pred: \", preds.size)\\nprint(preds, \\'--\\',y_test)\\n'"
            ]
          },
          "metadata": {
            "tags": []
          },
          "execution_count": 104
        }
      ]
    },
    {
      "cell_type": "code",
      "metadata": {
        "id": "WoVC8WMGmmly",
        "colab_type": "code",
        "outputId": "b7330537-0eb1-4a59-a547-1ad979fa8c93",
        "colab": {
          "base_uri": "https://localhost:8080/",
          "height": 54
        }
      },
      "source": [
        "import operator\n",
        "outputArray = []\n",
        "for binclass,vectors in preds_dict.items():\n",
        "    vectors1 = [binclass[0] if item == 0.0 else binclass[1] for item in vectors]\n",
        "    outputArray.append(vectors1)\n",
        "\n",
        "print(outputArray)\n",
        "\n",
        "outputDict = {}\n",
        "\n",
        "predictions = []\n",
        "\n",
        "for i in range(0,len(outputArray[0])):\n",
        "    for classes in unique_labels:\n",
        "        outputDict[classes] = 0\n",
        "    for j in range(0, 3):\n",
        "        outputDict[outputArray[j][i]] = outputDict[outputArray[j][i]] + 1\n",
        "    #  print(type(outputArray[j][i]))\n",
        "    \n",
        "    predictions.append(max(outputDict.items(), key=operator.itemgetter(1))[0])\n",
        "    dummya = max(outputDict.items())\n",
        "    if dummya == 1:\n",
        "      print(\"asdasdasdasd@@@@\")\n",
        "      #co.append(item[i])\n",
        "     # print( )\n",
        "\n",
        "\n",
        "#outputArray\n",
        "\n",
        "    # take max of "
      ],
      "execution_count": 37,
      "outputs": [
        {
          "output_type": "stream",
          "text": [
            "[['c_americana', 'c_americana', 'c_americana', 'c_americana', 'c_cornuta', 'c_americana', 'c_americana', 'c_cornuta', 'c_americana', 'c_americana', 'c_cornuta', 'c_americana', 'c_americana', 'c_americana', 'c_cornuta', 'c_cornuta', 'c_cornuta', 'c_cornuta', 'c_cornuta', 'c_americana', 'c_cornuta', 'c_americana', 'c_cornuta', 'c_americana', 'c_cornuta', 'c_cornuta', 'c_cornuta', 'c_americana', 'c_americana', 'c_americana', 'c_cornuta', 'c_cornuta', 'c_americana', 'c_americana', 'c_americana', 'c_americana', 'c_cornuta', 'c_cornuta', 'c_cornuta', 'c_cornuta', 'c_americana', 'c_cornuta', 'c_americana', 'c_americana', 'c_cornuta', 'c_americana', 'c_cornuta', 'c_cornuta', 'c_americana', 'c_cornuta', 'c_americana', 'c_cornuta', 'c_cornuta', 'c_cornuta', 'c_americana', 'c_cornuta', 'c_cornuta', 'c_americana', 'c_americana', 'c_cornuta', 'c_americana'], ['c_avellana', 'c_avellana', 'c_avellana', 'c_cornuta', 'c_avellana', 'c_avellana', 'c_avellana', 'c_cornuta', 'c_avellana', 'c_avellana', 'c_cornuta', 'c_avellana', 'c_avellana', 'c_avellana', 'c_avellana', 'c_cornuta', 'c_avellana', 'c_cornuta', 'c_cornuta', 'c_avellana', 'c_cornuta', 'c_avellana', 'c_avellana', 'c_avellana', 'c_avellana', 'c_cornuta', 'c_cornuta', 'c_avellana', 'c_avellana', 'c_avellana', 'c_cornuta', 'c_cornuta', 'c_avellana', 'c_cornuta', 'c_avellana', 'c_avellana', 'c_cornuta', 'c_cornuta', 'c_avellana', 'c_cornuta', 'c_avellana', 'c_avellana', 'c_avellana', 'c_cornuta', 'c_cornuta', 'c_cornuta', 'c_cornuta', 'c_avellana', 'c_avellana', 'c_cornuta', 'c_avellana', 'c_avellana', 'c_cornuta', 'c_cornuta', 'c_cornuta', 'c_cornuta', 'c_cornuta', 'c_avellana', 'c_cornuta', 'c_cornuta', 'c_cornuta'], ['c_avellana', 'c_avellana', 'c_americana', 'c_americana', 'c_avellana', 'c_americana', 'c_americana', 'c_americana', 'c_avellana', 'c_americana', 'c_americana', 'c_americana', 'c_avellana', 'c_avellana', 'c_avellana', 'c_americana', 'c_avellana', 'c_americana', 'c_americana', 'c_americana', 'c_americana', 'c_avellana', 'c_avellana', 'c_avellana', 'c_avellana', 'c_americana', 'c_americana', 'c_avellana', 'c_avellana', 'c_americana', 'c_americana', 'c_americana', 'c_americana', 'c_americana', 'c_americana', 'c_avellana', 'c_americana', 'c_americana', 'c_avellana', 'c_americana', 'c_americana', 'c_avellana', 'c_avellana', 'c_americana', 'c_americana', 'c_americana', 'c_avellana', 'c_avellana', 'c_avellana', 'c_americana', 'c_avellana', 'c_avellana', 'c_americana', 'c_avellana', 'c_americana', 'c_americana', 'c_americana', 'c_americana', 'c_americana', 'c_americana', 'c_americana']]\n"
          ],
          "name": "stdout"
        }
      ]
    },
    {
      "cell_type": "code",
      "metadata": {
        "id": "W_HGavPZfA2H",
        "colab_type": "code",
        "outputId": "07def7a6-6024-47e1-93c5-0f087e75b33e",
        "colab": {
          "base_uri": "https://localhost:8080/",
          "height": 303
        }
      },
      "source": [
        "print(predictions, y_testing.array)\n"
      ],
      "execution_count": 25,
      "outputs": [
        {
          "output_type": "stream",
          "text": [
            "['c_cornuta', 'c_americana', 'c_cornuta', 'c_avellana', 'c_americana', 'c_cornuta', 'c_avellana', 'c_americana', 'c_avellana', 'c_avellana', 'c_avellana', 'c_cornuta', 'c_avellana', 'c_americana', 'c_americana', 'c_cornuta', 'c_avellana', 'c_avellana', 'c_cornuta', 'c_avellana', 'c_americana', 'c_avellana', 'c_cornuta', 'c_americana', 'c_avellana', 'c_americana', 'c_avellana', 'c_americana', 'c_americana', 'c_cornuta', 'c_cornuta', 'c_cornuta', 'c_cornuta', 'c_cornuta', 'c_avellana', 'c_americana', 'c_cornuta', 'c_avellana', 'c_cornuta', 'c_avellana', 'c_cornuta', 'c_avellana', 'c_cornuta', 'c_cornuta', 'c_americana', 'c_americana', 'c_cornuta', 'c_avellana', 'c_cornuta', 'c_americana', 'c_cornuta', 'c_cornuta', 'c_avellana', 'c_avellana', 'c_americana', 'c_cornuta', 'c_americana', 'c_cornuta', 'c_americana', 'c_avellana', 'c_cornuta'] <PandasArray>\n",
            "[ 'c_avellana', 'c_americana',   'c_cornuta',  'c_avellana', 'c_americana',\n",
            "   'c_cornuta',  'c_avellana', 'c_americana',  'c_avellana', 'c_americana',\n",
            " 'c_americana',   'c_cornuta',  'c_avellana', 'c_americana', 'c_americana',\n",
            " 'c_americana',  'c_avellana', 'c_americana',   'c_cornuta',  'c_avellana',\n",
            " 'c_americana',  'c_avellana',   'c_cornuta',   'c_cornuta',  'c_avellana',\n",
            " 'c_americana',  'c_avellana', 'c_americana', 'c_americana',   'c_cornuta',\n",
            "   'c_cornuta',   'c_cornuta', 'c_americana', 'c_americana',  'c_avellana',\n",
            " 'c_americana',   'c_cornuta',  'c_avellana', 'c_americana',  'c_avellana',\n",
            " 'c_americana',  'c_avellana',   'c_cornuta',   'c_cornuta', 'c_americana',\n",
            " 'c_americana',   'c_cornuta',  'c_avellana',   'c_cornuta', 'c_americana',\n",
            "   'c_cornuta',   'c_cornuta',  'c_avellana',  'c_avellana', 'c_americana',\n",
            "   'c_cornuta', 'c_americana',   'c_cornuta', 'c_americana',  'c_avellana',\n",
            "   'c_cornuta']\n",
            "Length: 61, dtype: object\n"
          ],
          "name": "stdout"
        }
      ]
    },
    {
      "cell_type": "code",
      "metadata": {
        "id": "-_Ofpj5qsAne",
        "colab_type": "code",
        "outputId": "b7acc557-60a4-4a4d-a087-3382cdfa31c5",
        "colab": {
          "base_uri": "https://localhost:8080/",
          "height": 34
        }
      },
      "source": [
        "len(y_testing)"
      ],
      "execution_count": 0,
      "outputs": [
        {
          "output_type": "execute_result",
          "data": {
            "text/plain": [
              "61"
            ]
          },
          "metadata": {
            "tags": []
          },
          "execution_count": 83
        }
      ]
    },
    {
      "cell_type": "code",
      "metadata": {
        "id": "f95uVPOyijTs",
        "colab_type": "code",
        "outputId": "8450c341-0502-4ddb-d0ab-414c9cfec772",
        "colab": {
          "base_uri": "https://localhost:8080/",
          "height": 34
        }
      },
      "source": [
        "len(predictions)"
      ],
      "execution_count": 0,
      "outputs": [
        {
          "output_type": "execute_result",
          "data": {
            "text/plain": [
              "61"
            ]
          },
          "metadata": {
            "tags": []
          },
          "execution_count": 84
        }
      ]
    },
    {
      "cell_type": "code",
      "metadata": {
        "id": "teoKB1Sftd4M",
        "colab_type": "code",
        "outputId": "bb50aa02-a1fa-42bd-a0fa-184204401a36",
        "colab": {
          "base_uri": "https://localhost:8080/",
          "height": 34
        }
      },
      "source": [
        "(predictions == y_testing).mean()"
      ],
      "execution_count": 38,
      "outputs": [
        {
          "output_type": "execute_result",
          "data": {
            "text/plain": [
              "0.8524590163934426"
            ]
          },
          "metadata": {
            "tags": []
          },
          "execution_count": 38
        }
      ]
    },
    {
      "cell_type": "code",
      "metadata": {
        "id": "GqXTPgrieQ1G",
        "colab_type": "code",
        "outputId": "fe0ab34c-2b36-4de7-a605-1876ad4d902d",
        "colab": {
          "base_uri": "https://localhost:8080/",
          "height": 85
        }
      },
      "source": [
        "model.theta"
      ],
      "execution_count": 0,
      "outputs": [
        {
          "output_type": "execute_result",
          "data": {
            "text/plain": [
              "array([-0.04786005087192788, 13.915608443188045, 0.7923123236906784,\n",
              "       0.3114794657158346, 22.709132821105563, -0.9166304701270609,\n",
              "       -0.39041022427704414, 0.8394799600387753, 1.1177166114649082,\n",
              "       -0.0029291642493280414, -0.06935486353834543], dtype=object)"
            ]
          },
          "metadata": {
            "tags": []
          },
          "execution_count": 105
        }
      ]
    },
    {
      "cell_type": "code",
      "metadata": {
        "id": "xnwLvr6Zu6ub",
        "colab_type": "code",
        "outputId": "6efef1ae-4588-46d5-ef24-e41bb41a4a4c",
        "colab": {
          "base_uri": "https://localhost:8080/",
          "height": 316
        }
      },
      "source": [
        "# create dictionary \n",
        "class Dummy:\n",
        "  def __init__(self):\n",
        "    pass\n",
        "\n",
        "  def createDictionary(self, features, labels):\n",
        "    self.features = np.float_(features).tolist()\n",
        "    self.labels = labels\n",
        "    self.unique_labels = list(set(self.labels))\n",
        "    self.input_dict = dict()\n",
        "    # creating dictionary with unique labels as key and empty list as value\n",
        "    for label in self.unique_labels:\n",
        "      self.input_dict.setdefault(label, [])\n",
        "\n",
        "    # appending feature list to respective label key in dictionary\n",
        "    for label, feature in zip(self.labels, self.features):\n",
        "      self.input_dict[label].append(feature)\n",
        "      #print(label, feature)\n",
        "\n",
        "   # print(self.input_dict)\n",
        "\n",
        "  def fit_a(self):\n",
        "    import itertools\n",
        "    iterable = ['a','b','c']\n",
        "    #class_dict={'a':[[1,2,3]],'b':[[2,3,4]],'c':[[5,6,7]]}\n",
        "    classes_list = list(itertools.combinations(self.unique_labels, 2))\n",
        "    classes_dict = {}\n",
        "    for classes in classes_list:\n",
        "      classes_dict[classes] = []\n",
        "    #print(classes_dict)\n",
        "    for binclass,vectors in classes_dict.items():\n",
        "      data1 = {}\n",
        "      data1[1] = np.array(self.input_dict[binclass[0]])\n",
        "      feature_size = len(self.input_dict[binclass[0]][0])\n",
        "      #print(\"@@feature_size@@ \", feature_size)\n",
        "      data1[-1] = np.array(self.input_dict[binclass[1]])\n",
        "      #print(data1)\n",
        "      svm.fit(data=data1)\n",
        "      #print(\"Self.w\")\n",
        "      #print(self.w)\n",
        "      #print(\"Seld.b\")\n",
        "      #print(self.b)\n",
        "      #print(type(binclass))\n",
        "      classes_dict[binclass] = [self.w,self.b]\n",
        "      #print(classes_dict)\n",
        "\n",
        "d = Dummy()\n",
        "d.createDictionary(features=X, labels=y)\n",
        "d.fit_a()"
      ],
      "execution_count": 0,
      "outputs": [
        {
          "output_type": "error",
          "ename": "NameError",
          "evalue": "ignored",
          "traceback": [
            "\u001b[0;31m---------------------------------------------------------------------------\u001b[0m",
            "\u001b[0;31mNameError\u001b[0m                                 Traceback (most recent call last)",
            "\u001b[0;32m<ipython-input-106-6e711bca658a>\u001b[0m in \u001b[0;36m<module>\u001b[0;34m()\u001b[0m\n\u001b[1;32m     46\u001b[0m \u001b[0md\u001b[0m \u001b[0;34m=\u001b[0m \u001b[0mDummy\u001b[0m\u001b[0;34m(\u001b[0m\u001b[0;34m)\u001b[0m\u001b[0;34m\u001b[0m\u001b[0;34m\u001b[0m\u001b[0m\n\u001b[1;32m     47\u001b[0m \u001b[0md\u001b[0m\u001b[0;34m.\u001b[0m\u001b[0mcreateDictionary\u001b[0m\u001b[0;34m(\u001b[0m\u001b[0mfeatures\u001b[0m\u001b[0;34m=\u001b[0m\u001b[0mX\u001b[0m\u001b[0;34m,\u001b[0m \u001b[0mlabels\u001b[0m\u001b[0;34m=\u001b[0m\u001b[0my\u001b[0m\u001b[0;34m)\u001b[0m\u001b[0;34m\u001b[0m\u001b[0;34m\u001b[0m\u001b[0m\n\u001b[0;32m---> 48\u001b[0;31m \u001b[0md\u001b[0m\u001b[0;34m.\u001b[0m\u001b[0mfit_a\u001b[0m\u001b[0;34m(\u001b[0m\u001b[0;34m)\u001b[0m\u001b[0;34m\u001b[0m\u001b[0;34m\u001b[0m\u001b[0m\n\u001b[0m",
            "\u001b[0;32m<ipython-input-106-6e711bca658a>\u001b[0m in \u001b[0;36mfit_a\u001b[0;34m(self)\u001b[0m\n\u001b[1;32m     35\u001b[0m       \u001b[0mdata1\u001b[0m\u001b[0;34m[\u001b[0m\u001b[0;34m-\u001b[0m\u001b[0;36m1\u001b[0m\u001b[0;34m]\u001b[0m \u001b[0;34m=\u001b[0m \u001b[0mnp\u001b[0m\u001b[0;34m.\u001b[0m\u001b[0marray\u001b[0m\u001b[0;34m(\u001b[0m\u001b[0mself\u001b[0m\u001b[0;34m.\u001b[0m\u001b[0minput_dict\u001b[0m\u001b[0;34m[\u001b[0m\u001b[0mbinclass\u001b[0m\u001b[0;34m[\u001b[0m\u001b[0;36m1\u001b[0m\u001b[0;34m]\u001b[0m\u001b[0;34m]\u001b[0m\u001b[0;34m)\u001b[0m\u001b[0;34m\u001b[0m\u001b[0;34m\u001b[0m\u001b[0m\n\u001b[1;32m     36\u001b[0m       \u001b[0;31m#print(data1)\u001b[0m\u001b[0;34m\u001b[0m\u001b[0;34m\u001b[0m\u001b[0;34m\u001b[0m\u001b[0m\n\u001b[0;32m---> 37\u001b[0;31m       \u001b[0msvm\u001b[0m\u001b[0;34m.\u001b[0m\u001b[0mfit\u001b[0m\u001b[0;34m(\u001b[0m\u001b[0mdata\u001b[0m\u001b[0;34m=\u001b[0m\u001b[0mdata1\u001b[0m\u001b[0;34m)\u001b[0m\u001b[0;34m\u001b[0m\u001b[0;34m\u001b[0m\u001b[0m\n\u001b[0m\u001b[1;32m     38\u001b[0m       \u001b[0;31m#print(\"Self.w\")\u001b[0m\u001b[0;34m\u001b[0m\u001b[0;34m\u001b[0m\u001b[0;34m\u001b[0m\u001b[0m\n\u001b[1;32m     39\u001b[0m       \u001b[0;31m#print(self.w)\u001b[0m\u001b[0;34m\u001b[0m\u001b[0;34m\u001b[0m\u001b[0;34m\u001b[0m\u001b[0m\n",
            "\u001b[0;31mNameError\u001b[0m: name 'svm' is not defined"
          ]
        }
      ]
    },
    {
      "cell_type": "code",
      "metadata": {
        "id": "E4vc81ODeQ1J",
        "colab_type": "code",
        "colab": {}
      },
      "source": [
        ""
      ],
      "execution_count": 0,
      "outputs": []
    }
  ]
}